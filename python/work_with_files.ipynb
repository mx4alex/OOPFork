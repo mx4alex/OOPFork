{
 "cells": [
  {
   "cell_type": "markdown",
   "id": "727addf0",
   "metadata": {},
   "source": [
    "# Работа с файлами\n",
    "\n",
    "#### Описание\n",
    "\n",
    "Python позволяет работать с файлами. В качестве примера будем работать с текстовым файлом. \n",
    "Прежде чем начать работать с файлом необходимо его открыть, для этого есть метод `open():`"
   ]
  },
  {
   "cell_type": "code",
   "execution_count": 2,
   "id": "0153be12",
   "metadata": {},
   "outputs": [],
   "source": [
    "f = open('test.txt', 'r')"
   ]
  },
  {
   "cell_type": "markdown",
   "id": "e50a6858",
   "metadata": {},
   "source": [
    "Мы присваиваем переменной `f` результат выполнения команды открытия файла, параметры этой команды - адрес файла, путь до места где он расположен на компьютере с названием файла(test) и его расширением(.txt), говорящим что он текстовый. Второй параметр `'r'` означает, что файл открыт для чтения, то есть мы не сможем вносить изменения в этот файл до тех пор, пока он открыт только для чтения.\n",
    "\n",
    "\n",
    "У метода `open()` существует много аргументов:\n",
    "\n",
    "- `'r'` - открытие на чтение(значение по умолчанию)\n",
    "- `'w'` - открытие на запись, содержимое файла удаляется и перезаписывается заново, если файла не существует, создается новый\n",
    "- `'x'` - открытие на запись, только если файла не существует\n",
    "- `'a'` - открытие на дозапись, информация добавляется в конец файла\n",
    "- `'b'` - открытие файла в двоичном виде\n",
    "- `'t'` - открытие в текстовом режиме(значение по умолчанию)\n",
    "- `'+'` - открытие на чтение и запись\n",
    "\n",
    "Возможно сочетание режимов, например `'rb'`, чтение в бинарном виде, по умолчанию установлен `'rt'`.\n",
    "\n",
    "После открытия файла можно прочитать из него информацию, благодаря методу `read()`:"
   ]
  },
  {
   "cell_type": "code",
   "execution_count": 3,
   "id": "69e772c5",
   "metadata": {},
   "outputs": [
    {
     "data": {
      "text/plain": [
       "'Lambda is\\nAwesome!.\\n\\n'"
      ]
     },
     "execution_count": 3,
     "metadata": {},
     "output_type": "execute_result"
    }
   ],
   "source": [
    "f = open('test.txt')\n",
    "f.read()"
   ]
  },
  {
   "cell_type": "markdown",
   "id": "d40cead3",
   "metadata": {},
   "source": [
    "Также можно прочитать и вывести файл построчно:"
   ]
  },
  {
   "cell_type": "code",
   "execution_count": 4,
   "id": "0c266b74",
   "metadata": {},
   "outputs": [
    {
     "name": "stdout",
     "output_type": "stream",
     "text": [
      "Lambda is\n",
      "\n",
      "Awesome!.\n",
      "\n",
      "\n",
      "\n"
     ]
    }
   ],
   "source": [
    "f = open('test.txt') \n",
    "for line in f:\n",
    "    print(line)"
   ]
  },
  {
   "cell_type": "markdown",
   "id": "ae41ab11",
   "metadata": {},
   "source": [
    "Записать информацию в файл можно открыв файл на запись:"
   ]
  },
  {
   "cell_type": "code",
   "execution_count": 7,
   "id": "8e5de2ef",
   "metadata": {},
   "outputs": [],
   "source": [
    "f = open('test.txt', 'w')\n",
    "for i in range(1, 4):\n",
    "    f.write(str(i) + '\\n')"
   ]
  },
  {
   "cell_type": "markdown",
   "id": "cde0e3e1",
   "metadata": {},
   "source": [
    "По окончании работы с файлом его необходимо закрыть, используя метод `close()`:"
   ]
  },
  {
   "cell_type": "code",
   "execution_count": 8,
   "id": "b8c1fad6",
   "metadata": {},
   "outputs": [],
   "source": [
    "f.close()"
   ]
  }
 ],
 "metadata": {
  "kernelspec": {
   "display_name": "Python 3",
   "language": "python",
   "name": "python3"
  },
  "language_info": {
   "codemirror_mode": {
    "name": "ipython",
    "version": 3
   },
   "file_extension": ".py",
   "mimetype": "text/x-python",
   "name": "python",
   "nbconvert_exporter": "python",
   "pygments_lexer": "ipython3",
   "version": "3.9.7"
  }
 },
 "nbformat": 4,
 "nbformat_minor": 5
}
