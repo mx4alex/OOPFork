{
 "cells": [
  {
   "cell_type": "markdown",
   "id": "caec52ff",
   "metadata": {},
   "source": [
    "# Самостоятельное задание\n",
    "\n",
    "Мы предлагаем вам потренироваться c логическими и побитовыми операторами."
   ]
  },
  {
   "cell_type": "code",
   "execution_count": 3,
   "id": "7fe7e97e",
   "metadata": {},
   "outputs": [
    {
     "name": "stdout",
     "output_type": "stream",
     "text": [
      "False\n",
      "False\n",
      "True\n",
      "False\n",
      "False\n",
      "4\n",
      "0\n",
      "1\n",
      "2\n"
     ]
    }
   ],
   "source": [
    "a = True\n",
    "\n",
    "b = False\n",
    "\n",
    "print(a and b)\n",
    "print((a and b) or b)\n",
    "print((a and b) or not (a and b))\n",
    "print(a and b or not (a or b) or b)\n",
    "print(b and b or not a and (a or b or a) or not (a or b ))\n",
    "print (1 << 2)\n",
    "print (1&0|1>>1)\n",
    "print(1&0|1>>0)\n",
    "print(0b101 & 0b111 ^ 0b111|0b010)\n"
   ]
  },
  {
   "cell_type": "markdown",
   "id": "06c53579",
   "metadata": {},
   "source": [
    "**Решите:**\n",
    "\n",
    "1. a and b \n",
    "\n",
    "2. (a and b) or b \n",
    "\n",
    "3. (a and b) or not (a and b) \n",
    "\n",
    "4. a and b or not (a or b) or b \n",
    "\n",
    "5. b and b or not a and (a or b or a) or not (a or b) \n",
    "\n",
    "6. 1 << 2 \n",
    "\n",
    "7. 1 & 0 | 1 >> 1 \n",
    "\n",
    "8. 1 & 0 | 1 >> 0 \n",
    "\n",
    "9. 0b101 & 0b111 ^ 0b111 | 0b010  Комментарий: \"0b101\" - запись числа \"5\" на языке Python в двоичном виде "
   ]
  }
 ],
 "metadata": {
  "kernelspec": {
   "display_name": "Python 3.10.0 64-bit",
   "language": "python",
   "name": "python3"
  },
  "language_info": {
   "codemirror_mode": {
    "name": "ipython",
    "version": 3
   },
   "file_extension": ".py",
   "mimetype": "text/x-python",
   "name": "python",
   "nbconvert_exporter": "python",
   "pygments_lexer": "ipython3",
   "version": "3.10.0"
  },
  "vscode": {
   "interpreter": {
    "hash": "8857d754c88de68ba114ca59710d98c414b7e6729307e960db36959023025ba4"
   }
  }
 },
 "nbformat": 4,
 "nbformat_minor": 5
}
