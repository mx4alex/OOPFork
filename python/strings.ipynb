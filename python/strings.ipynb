{
 "cells": [
  {
   "cell_type": "markdown",
   "id": "5de2a11b",
   "metadata": {},
   "source": [
    "# Строки\n",
    "\n",
    "\n",
    "Строки это упорядоченные последовательности символов, для работы с текстовой информацией. Чтобы присвоить переменной строковое значение, достаточно приравнять выражение в кавычках."
   ]
  },
  {
   "cell_type": "code",
   "execution_count": 2,
   "id": "21fa2315",
   "metadata": {},
   "outputs": [],
   "source": [
    "s = 'ain\"t it fun?'\n",
    "s = \"ain't it fun?\""
   ]
  },
  {
   "cell_type": "markdown",
   "id": "337a0ccb",
   "metadata": {},
   "source": [
    "Как говорилось ранее, разницы между одинарными и двойными кавычками нет, они были введены для того, чтобы можно было не экранировать кавычки внутри предложения, как показано на примере выше. То есть, если бы мы в первом варианте с одинарными кавычками в слове *ant\"t* применили также одинарную кавычку, тогда бы мы получили сообщение об ошибке, потому что наша строка состояла бы только из символов 'ain', остальной текст не был бы воспринят как часть строки, и в конце стояла бы одинокая открывающая кавычка. Но и этого можно избежать применив экранирование, или другими словами - отмену действия прямого назначения символа:"
   ]
  },
  {
   "cell_type": "code",
   "execution_count": 3,
   "id": "754734f5",
   "metadata": {},
   "outputs": [],
   "source": [
    "s = 'ain\\'t it fun?'"
   ]
  },
  {
   "cell_type": "markdown",
   "id": "61dd07dd",
   "metadata": {},
   "source": [
    "В данном случае символ \\ отменяет действие кавычки, то есть она не закрывает строку, а воспринимается как часть выражения и заканчивается оно в самом конце, однако не всегда такой вид удобочитаем.\n",
    "\n",
    "Существуют различные экранированные последовательности, которые позволяют вставить символы, которые трудно ввести с клавиатуры, приведем пример одной из таких последовательностей:\n",
    "\n",
    "- `\\n` - перевод строки\n"
   ]
  },
  {
   "cell_type": "code",
   "execution_count": 4,
   "id": "a27d5b75",
   "metadata": {},
   "outputs": [
    {
     "name": "stdout",
     "output_type": "stream",
     "text": [
      "ain\"t \n",
      "it \n",
      "fun?\n"
     ]
    }
   ],
   "source": [
    "s = 'ain\"t \\nit \\nfun?'\n",
    "print(s)"
   ]
  },
  {
   "cell_type": "markdown",
   "id": "1c41ee44",
   "metadata": {},
   "source": [
    "## Операции со строками\n",
    "\n",
    "Строки можно складывать:"
   ]
  },
  {
   "cell_type": "code",
   "execution_count": 5,
   "id": "be138116",
   "metadata": {},
   "outputs": [
    {
     "name": "stdout",
     "output_type": "stream",
     "text": [
      "Lambda is awesome!\n"
     ]
    }
   ],
   "source": [
    "s_1 = 'Lambda'\n",
    "s_2 = ' '\n",
    "s_3 = 'is awesome!'\n",
    "print(s_1 + s_2 + s_3)"
   ]
  },
  {
   "cell_type": "markdown",
   "id": "d20ffd69",
   "metadata": {},
   "source": [
    "Или дублировать:"
   ]
  },
  {
   "cell_type": "code",
   "execution_count": 6,
   "id": "97ddd11f",
   "metadata": {},
   "outputs": [
    {
     "name": "stdout",
     "output_type": "stream",
     "text": [
      "LambdaLambdaLambda\n"
     ]
    }
   ],
   "source": [
    "print('Lambda' * 3)\n"
   ]
  },
  {
   "cell_type": "markdown",
   "id": "69a16f93",
   "metadata": {},
   "source": [
    "С помощью метода `len()` можно узнать количество символов в строке:"
   ]
  },
  {
   "cell_type": "code",
   "execution_count": 7,
   "id": "13e52f12",
   "metadata": {},
   "outputs": [
    {
     "data": {
      "text/plain": [
       "6"
      ]
     },
     "execution_count": 7,
     "metadata": {},
     "output_type": "execute_result"
    }
   ],
   "source": [
    "len('Lambda')"
   ]
  },
  {
   "cell_type": "markdown",
   "id": "2c4ad32e",
   "metadata": {},
   "source": [
    "Можно обращаться к элементам по их индексу **(индексация ведется ОТ НУЛЯ)**:"
   ]
  },
  {
   "cell_type": "code",
   "execution_count": 8,
   "id": "64a03971",
   "metadata": {},
   "outputs": [
    {
     "name": "stdout",
     "output_type": "stream",
     "text": [
      "L\n",
      "a\n"
     ]
    }
   ],
   "source": [
    "s = 'Lambda'\n",
    "print(s[0])\n",
    "print(s[5])\n"
   ]
  },
  {
   "cell_type": "markdown",
   "id": "5ff3dae2",
   "metadata": {},
   "source": [
    "По индексу можно извлекать несколько символов, тогда это будет называться срез:"
   ]
  },
  {
   "cell_type": "code",
   "execution_count": 9,
   "id": "28e5ff09",
   "metadata": {},
   "outputs": [
    {
     "name": "stdout",
     "output_type": "stream",
     "text": [
      "a\n",
      "Lambda\n",
      "Lam\n",
      "Lambda\n"
     ]
    }
   ],
   "source": [
    "s = 'Lambda'\n",
    "print(s[1:2])\n",
    "print(s[0:])\n",
    "print(s[:3])\n",
    "print(s[:])"
   ]
  },
  {
   "cell_type": "markdown",
   "id": "62553a26",
   "metadata": {},
   "source": [
    "Методов работы со строками довольно много, мы рассмотрим часть наиболее популярных:\n",
    "\n",
    "- `find(str, [start],[end])` - Поиск подстроки в строке. Возвращает номер первого вхождения или -1"
   ]
  },
  {
   "cell_type": "code",
   "execution_count": 12,
   "id": "f402dd61",
   "metadata": {},
   "outputs": [
    {
     "data": {
      "text/plain": [
       "1"
      ]
     },
     "execution_count": 12,
     "metadata": {},
     "output_type": "execute_result"
    }
   ],
   "source": [
    "s = 'LambdaPython'\n",
    "s.find('a')"
   ]
  },
  {
   "cell_type": "markdown",
   "id": "bf356e3b",
   "metadata": {},
   "source": [
    "- `rfind(str, [start],[end])` - Поиск подстроки в строке. Возвращает номер последнего вхождения или -1"
   ]
  },
  {
   "cell_type": "code",
   "execution_count": 13,
   "id": "65cdd896",
   "metadata": {},
   "outputs": [
    {
     "data": {
      "text/plain": [
       "8"
      ]
     },
     "execution_count": 13,
     "metadata": {},
     "output_type": "execute_result"
    }
   ],
   "source": [
    "s = 'LambdaPython'\n",
    "s.rfind('t')"
   ]
  },
  {
   "cell_type": "markdown",
   "id": "4bf1f306",
   "metadata": {},
   "source": [
    "- `index(str, [start],[end])` - Поиск подстроки в строке. Возвращает номер первого вхождения или вызывает `ValueError`\n"
   ]
  },
  {
   "cell_type": "code",
   "execution_count": 14,
   "id": "fdd46b2f",
   "metadata": {},
   "outputs": [
    {
     "data": {
      "text/plain": [
       "2"
      ]
     },
     "execution_count": 14,
     "metadata": {},
     "output_type": "execute_result"
    }
   ],
   "source": [
    "s = 'LambdaPython'\n",
    "s.index('m')"
   ]
  },
  {
   "cell_type": "markdown",
   "id": "83780250",
   "metadata": {},
   "source": [
    "- `rindex(str, [start],[end])` - Поиск подстроки в строке. Возвращает номер последнего вхождения или вызывает ValueError\n"
   ]
  },
  {
   "cell_type": "code",
   "execution_count": 15,
   "id": "acac3fbc",
   "metadata": {},
   "outputs": [
    {
     "data": {
      "text/plain": [
       "0"
      ]
     },
     "execution_count": 15,
     "metadata": {},
     "output_type": "execute_result"
    }
   ],
   "source": [
    "s = 'LambdaPython'\n",
    "s.rindex('L')"
   ]
  },
  {
   "cell_type": "markdown",
   "id": "e0f91995",
   "metadata": {},
   "source": [
    "- `replace(шаблон, замена)` - Замена шаблона"
   ]
  },
  {
   "cell_type": "code",
   "execution_count": 16,
   "id": "d4edf3a1",
   "metadata": {},
   "outputs": [
    {
     "data": {
      "text/plain": [
       "'LambdaHuython'"
      ]
     },
     "execution_count": 16,
     "metadata": {},
     "output_type": "execute_result"
    }
   ],
   "source": [
    "s = 'LambdaPython'\n",
    "s.replace('P', 'Hu')"
   ]
  },
  {
   "cell_type": "markdown",
   "id": "3b7cd011",
   "metadata": {},
   "source": [
    "- `split(символ)` - Разбиение строки по разделителю"
   ]
  },
  {
   "cell_type": "code",
   "execution_count": 18,
   "id": "720b6ccd",
   "metadata": {},
   "outputs": [
    {
     "data": {
      "text/plain": [
       "['L', 'mbd', 'Python']"
      ]
     },
     "execution_count": 18,
     "metadata": {},
     "output_type": "execute_result"
    }
   ],
   "source": [
    "s = 'LambdaPython'\n",
    "s.split('a')"
   ]
  },
  {
   "cell_type": "markdown",
   "id": "39ab5fcd",
   "metadata": {},
   "source": [
    "- `isdigit()` - Состоит ли строка из цифр"
   ]
  },
  {
   "cell_type": "code",
   "execution_count": 20,
   "id": "415e4fe8",
   "metadata": {},
   "outputs": [
    {
     "name": "stdout",
     "output_type": "stream",
     "text": [
      "True\n",
      "False\n"
     ]
    }
   ],
   "source": [
    "s = '123'\n",
    "print(s.isdigit())\n",
    "s = 'LambdaPython'\n",
    "print(s.isdigit())"
   ]
  },
  {
   "cell_type": "markdown",
   "id": "63166e59",
   "metadata": {},
   "source": [
    "- `isalpha()` - Состоит ли строка из букв"
   ]
  },
  {
   "cell_type": "code",
   "execution_count": 21,
   "id": "b382f9db",
   "metadata": {},
   "outputs": [
    {
     "name": "stdout",
     "output_type": "stream",
     "text": [
      "False\n",
      "True\n"
     ]
    }
   ],
   "source": [
    "s = '123'\n",
    "print(s.isalpha())\n",
    "s = 'LambdaPython'\n",
    "print(s.isalpha())"
   ]
  },
  {
   "cell_type": "markdown",
   "id": "96b269a9",
   "metadata": {},
   "source": [
    "- `isalnum()` - Состоит ли строка из цифр или букв"
   ]
  },
  {
   "cell_type": "code",
   "execution_count": 25,
   "id": "0b2e9a36",
   "metadata": {},
   "outputs": [
    {
     "name": "stdout",
     "output_type": "stream",
     "text": [
      "False\n",
      "True\n"
     ]
    }
   ],
   "source": [
    "s = '123&a'\n",
    "print(s.isalnum())\n",
    "s = 'LambdaPython1'\n",
    "print(s.isalnum())"
   ]
  },
  {
   "cell_type": "markdown",
   "id": "980140ec",
   "metadata": {},
   "source": [
    "- `islower()` - Состоит ли строка из символов в нижнем регистре"
   ]
  },
  {
   "cell_type": "code",
   "execution_count": 26,
   "id": "e4dc16ac",
   "metadata": {},
   "outputs": [
    {
     "name": "stdout",
     "output_type": "stream",
     "text": [
      "True\n",
      "False\n"
     ]
    }
   ],
   "source": [
    "s = '123&a'\n",
    "print(s.islower())\n",
    "s = 'LambdaPython1'\n",
    "print(s.islower())"
   ]
  },
  {
   "cell_type": "markdown",
   "id": "899fe330",
   "metadata": {},
   "source": [
    "- `isupper()` - Состоит ли строка из символов в верхнем регистре"
   ]
  },
  {
   "cell_type": "code",
   "execution_count": 29,
   "id": "d13c33ce",
   "metadata": {},
   "outputs": [
    {
     "name": "stdout",
     "output_type": "stream",
     "text": [
      "False\n",
      "False\n",
      "True\n"
     ]
    }
   ],
   "source": [
    "s = '123&a'\n",
    "print(s.isupper())\n",
    "s = 'LambdaPython'\n",
    "print(s.isupper())\n",
    "s = 'LAMBDA'\n",
    "print(s.isupper())"
   ]
  },
  {
   "cell_type": "markdown",
   "id": "372de7c6",
   "metadata": {},
   "source": [
    "- `istitle()` - Начинаются ли слова в строке с заглавной буквы"
   ]
  },
  {
   "cell_type": "code",
   "execution_count": 34,
   "id": "2e38da00",
   "metadata": {},
   "outputs": [
    {
     "name": "stdout",
     "output_type": "stream",
     "text": [
      "True\n",
      "False\n"
     ]
    }
   ],
   "source": [
    "s = 'Lambda'\n",
    "print(s.istitle())\n",
    "s = 'LambdaPython'\n",
    "print(s.istitle())"
   ]
  },
  {
   "cell_type": "markdown",
   "id": "102e41eb",
   "metadata": {},
   "source": [
    "- `upper()` - Преобразование строки к верхнему регистру"
   ]
  },
  {
   "cell_type": "code",
   "execution_count": 35,
   "id": "38896e7e",
   "metadata": {},
   "outputs": [
    {
     "name": "stdout",
     "output_type": "stream",
     "text": [
      "LAMBDA\n"
     ]
    }
   ],
   "source": [
    "s = 'Lambda'\n",
    "print(s.upper())"
   ]
  },
  {
   "cell_type": "markdown",
   "id": "85979fde",
   "metadata": {},
   "source": [
    "- `lower()` - Преобразование строки к нижнему регистру"
   ]
  },
  {
   "cell_type": "code",
   "execution_count": 37,
   "id": "c12c438b",
   "metadata": {},
   "outputs": [
    {
     "name": "stdout",
     "output_type": "stream",
     "text": [
      "lambda\n"
     ]
    }
   ],
   "source": [
    "s = 'LambdA'\n",
    "print(s.lower())"
   ]
  },
  {
   "cell_type": "markdown",
   "id": "155fe2b6",
   "metadata": {},
   "source": [
    "- `startswith(str)` - Начинается ли строка S с шаблона str"
   ]
  },
  {
   "cell_type": "code",
   "execution_count": 38,
   "id": "353e1605",
   "metadata": {},
   "outputs": [
    {
     "name": "stdout",
     "output_type": "stream",
     "text": [
      "True\n"
     ]
    }
   ],
   "source": [
    "s = 'LambdA'\n",
    "print(s.startswith('L'))"
   ]
  },
  {
   "cell_type": "markdown",
   "id": "425dfaef",
   "metadata": {},
   "source": [
    "- `endswith(str)` - Заканчивается ли строка S шаблоном str"
   ]
  },
  {
   "cell_type": "code",
   "execution_count": 39,
   "id": "115d4f10",
   "metadata": {},
   "outputs": [
    {
     "name": "stdout",
     "output_type": "stream",
     "text": [
      "True\n"
     ]
    }
   ],
   "source": [
    "s = 'Lambda'\n",
    "print(s.endswith('a'))"
   ]
  },
  {
   "cell_type": "markdown",
   "id": "debd5ea2",
   "metadata": {},
   "source": [
    "- `join(список)` - Сборка строки из списка с разделителем S"
   ]
  },
  {
   "cell_type": "code",
   "execution_count": 41,
   "id": "ed736d4f",
   "metadata": {},
   "outputs": [
    {
     "data": {
      "text/plain": [
       "'aLambdabLambdac'"
      ]
     },
     "execution_count": 41,
     "metadata": {},
     "output_type": "execute_result"
    }
   ],
   "source": [
    "s = 'Lambda'\n",
    "s.join(['a','b','c'])"
   ]
  }
 ],
 "metadata": {
  "kernelspec": {
   "display_name": "Python 3.10.0 64-bit",
   "language": "python",
   "name": "python3"
  },
  "language_info": {
   "codemirror_mode": {
    "name": "ipython",
    "version": 3
   },
   "file_extension": ".py",
   "mimetype": "text/x-python",
   "name": "python",
   "nbconvert_exporter": "python",
   "pygments_lexer": "ipython3",
   "version": "3.10.0"
  },
  "vscode": {
   "interpreter": {
    "hash": "8857d754c88de68ba114ca59710d98c414b7e6729307e960db36959023025ba4"
   }
  }
 },
 "nbformat": 4,
 "nbformat_minor": 5
}
