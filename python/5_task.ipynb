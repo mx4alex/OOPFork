{
 "cells": [
  {
   "cell_type": "markdown",
   "id": "85755de8",
   "metadata": {},
   "source": [
    "# Самостоятельное задание #5\n",
    "\n",
    "\n",
    "### Задание 1\n",
    "\n",
    "Допишите функцию, которая принимает список, выбирает из него все элементы с четным индексом и возвращает их в виде списка."
   ]
  },
  {
   "cell_type": "code",
   "execution_count": 14,
   "id": "6ef6d9b3",
   "metadata": {},
   "outputs": [
    {
     "name": "stdout",
     "output_type": "stream",
     "text": [
      "[1, 3, 5]\n"
     ]
    }
   ],
   "source": [
    "# Начните писать код тут\n",
    "def chet(array:list):\n",
    "    a=[]\n",
    "    for i in range (0,len(array),2):\n",
    "       a.append(array[i])\n",
    "    return a\n",
    "print(chet([1,2,3,4,5]))\n"
   ]
  },
  {
   "cell_type": "markdown",
   "id": "443974c9",
   "metadata": {},
   "source": [
    "### Задание 2\n",
    "\n",
    "Допишите функцию, которая принимает список, выбирает из него все элементы, которые больше предыдущего и возвращает их в виде списка.\n"
   ]
  },
  {
   "cell_type": "code",
   "execution_count": 17,
   "id": "3a8cf925",
   "metadata": {},
   "outputs": [
    {
     "name": "stdout",
     "output_type": "stream",
     "text": [
      "[2, 3, 5]\n"
     ]
    }
   ],
   "source": [
    "# Начните писать код тут\n",
    "def func(array:list):\n",
    "    a=[]\n",
    "    for i in range(1,len(array)):\n",
    "        if (array[i]>array[i-1]):\n",
    "            a.append(array[i])\n",
    "    return a\n",
    "print(func([1,2,3,2,1,5]))"
   ]
  },
  {
   "cell_type": "markdown",
   "id": "34524ede",
   "metadata": {},
   "source": [
    "### Задание 3\n",
    "\n",
    "Допишите функцию, которая принимает список, меняет местами наибольший и наименьший элементы и возвращает этот список."
   ]
  },
  {
   "cell_type": "code",
   "execution_count": 26,
   "id": "34d2beae",
   "metadata": {},
   "outputs": [
    {
     "name": "stdout",
     "output_type": "stream",
     "text": [
      "[4, 15, 9, 2, 5]\n"
     ]
    }
   ],
   "source": [
    "# Начните писать код тут\n",
    "def func(array:list):\n",
    "    minim=min(array)\n",
    "    maxim=max(array)\n",
    "    imin=array.index(minim)\n",
    "    imax=array.index(maxim)\n",
    "    array.remove(minim)\n",
    "    array.remove(maxim)\n",
    "    array.insert(imax-1,minim)\n",
    "    array.insert(imin,maxim)\n",
    "    return array\n",
    "print(func([4,2,9,15,5]))"
   ]
  }
 ],
 "metadata": {
  "kernelspec": {
   "display_name": "Python 3.10.0 64-bit",
   "language": "python",
   "name": "python3"
  },
  "language_info": {
   "codemirror_mode": {
    "name": "ipython",
    "version": 3
   },
   "file_extension": ".py",
   "mimetype": "text/x-python",
   "name": "python",
   "nbconvert_exporter": "python",
   "pygments_lexer": "ipython3",
   "version": "3.10.0"
  },
  "vscode": {
   "interpreter": {
    "hash": "8857d754c88de68ba114ca59710d98c414b7e6729307e960db36959023025ba4"
   }
  }
 },
 "nbformat": 4,
 "nbformat_minor": 5
}
