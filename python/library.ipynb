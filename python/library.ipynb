{
 "cells": [
  {
   "cell_type": "markdown",
   "id": "d36d4b75",
   "metadata": {},
   "source": [
    "# Подключение модулей\n",
    "\n",
    "\n",
    "Модулем в Python называется любой файл с программой с расширением `.py`. То есть любой ваш код, заключенный в файл, является модулем. Когда разрабатывается любая программа, она редко ограничивается одним файлом. Обычно это набор файлов. Для того, чтобы не писать один и тот же код в каждом файле, к каждому файлу можно подключить другой файл. Подключив другой файл (модуль), из него можно достать полезный метод, который может понадобиться.\n",
    "\n",
    "Давайте в качестве примера подключим стандартный модуль `datetime`, чтобы достать оттуда метод `datetime.today()`:"
   ]
  },
  {
   "cell_type": "code",
   "execution_count": 1,
   "id": "6c492977",
   "metadata": {},
   "outputs": [
    {
     "name": "stdout",
     "output_type": "stream",
     "text": [
      "2021-09-18 22:03:07.956030\n"
     ]
    }
   ],
   "source": [
    "import datetime\n",
    "print(datetime.datetime.today()) "
   ]
  },
  {
   "cell_type": "markdown",
   "id": "57cf0812",
   "metadata": {},
   "source": [
    "Подключив стандартный модуль, мы достали метод получения текущей даты и времени, после чего вызвали его и получили вывод на экран. На языке Python очень много дополнительных библиотек, которые можно доустановить и затем вызвать необходимые методы для улучшения работоспособности своего кода, а зачастую и раскрывая новые возможности. Прежде чем начать работать с новой для себя библиотекой, стоит ознакомиться с ее методами, чтобы эффективно использовать в своей работе.\n",
    "\n",
    "Также можно использовать псевдонимы для модулей, чтобы сократить их названия:"
   ]
  },
  {
   "cell_type": "code",
   "execution_count": 2,
   "id": "ebe77256",
   "metadata": {},
   "outputs": [
    {
     "name": "stdout",
     "output_type": "stream",
     "text": [
      "2021-09-18 22:03:36.903507\n"
     ]
    }
   ],
   "source": [
    "import datetime as m\n",
    "print(m.datetime.today())"
   ]
  },
  {
   "cell_type": "markdown",
   "id": "bbe97451",
   "metadata": {},
   "source": [
    "Можно сделать подключение модуля еще удобнее использовав инструкцию `from`:"
   ]
  },
  {
   "cell_type": "code",
   "execution_count": 3,
   "id": "f9f2a8c0",
   "metadata": {},
   "outputs": [
    {
     "name": "stdout",
     "output_type": "stream",
     "text": [
      "2021-09-18 22:04:06.733078\n"
     ]
    }
   ],
   "source": [
    "from datetime import datetime as m\n",
    "print(m.today())"
   ]
  },
  {
   "cell_type": "markdown",
   "id": "70f44711",
   "metadata": {},
   "source": [
    "Также мы можем достать все методы сразу, использовав символ *:"
   ]
  },
  {
   "cell_type": "code",
   "execution_count": 4,
   "id": "6db10232",
   "metadata": {},
   "outputs": [],
   "source": [
    "from datetime import *"
   ]
  }
 ],
 "metadata": {
  "kernelspec": {
   "display_name": "Python 3",
   "language": "python",
   "name": "python3"
  },
  "language_info": {
   "codemirror_mode": {
    "name": "ipython",
    "version": 3
   },
   "file_extension": ".py",
   "mimetype": "text/x-python",
   "name": "python",
   "nbconvert_exporter": "python",
   "pygments_lexer": "ipython3",
   "version": "3.9.7"
  }
 },
 "nbformat": 4,
 "nbformat_minor": 5
}
