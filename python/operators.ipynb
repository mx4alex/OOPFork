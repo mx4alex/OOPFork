{
 "cells": [
  {
   "cell_type": "markdown",
   "id": "982e8bc1",
   "metadata": {},
   "source": [
    "# Операторы"
   ]
  },
  {
   "cell_type": "markdown",
   "id": "035cd47b",
   "metadata": {},
   "source": [
    "## Арифметические операторы\n",
    "\n",
    "Простым языком <br/>\n",
    "Оператором является элемент выражения, который указывает на то, какое действие необходимо произвести между элементами. То есть, в выражении \"21 - 4\" символ \"-\" является оператором, указывающим на то, что нужно произвести вычитание. \"21\" и \"4\" при этом называются операндами."
   ]
  },
  {
   "cell_type": "markdown",
   "id": "6a9b8ebd",
   "metadata": {},
   "source": [
    "`+` - Оператор суммы"
   ]
  },
  {
   "cell_type": "code",
   "execution_count": 1,
   "id": "8edf2817",
   "metadata": {},
   "outputs": [
    {
     "name": "stdout",
     "output_type": "stream",
     "text": [
      "13\n"
     ]
    }
   ],
   "source": [
    "print(5 + 8)"
   ]
  },
  {
   "cell_type": "markdown",
   "id": "12303a34",
   "metadata": {},
   "source": [
    "`-` - Оператор разности"
   ]
  },
  {
   "cell_type": "code",
   "execution_count": 2,
   "id": "7f6cce01",
   "metadata": {},
   "outputs": [
    {
     "name": "stdout",
     "output_type": "stream",
     "text": [
      "29\n"
     ]
    }
   ],
   "source": [
    "print(31 - 2)"
   ]
  },
  {
   "cell_type": "markdown",
   "id": "0b1737ed",
   "metadata": {},
   "source": [
    "`*` - Оператор произведения"
   ]
  },
  {
   "cell_type": "code",
   "execution_count": 3,
   "id": "8fae3c41",
   "metadata": {},
   "outputs": [
    {
     "name": "stdout",
     "output_type": "stream",
     "text": [
      "108\n"
     ]
    }
   ],
   "source": [
    "print(12 * 9)"
   ]
  },
  {
   "cell_type": "markdown",
   "id": "77bd9a45",
   "metadata": {},
   "source": [
    "`/` - Оператор деления"
   ]
  },
  {
   "cell_type": "code",
   "execution_count": 4,
   "id": "215ff5b2",
   "metadata": {},
   "outputs": [
    {
     "name": "stdout",
     "output_type": "stream",
     "text": [
      "1.5\n"
     ]
    }
   ],
   "source": [
    "print(6 / 4)"
   ]
  },
  {
   "cell_type": "markdown",
   "id": "67798fbb",
   "metadata": {},
   "source": [
    "`%` - Оператор получения остатка от деления"
   ]
  },
  {
   "cell_type": "code",
   "execution_count": 5,
   "id": "d2eea7bf",
   "metadata": {},
   "outputs": [
    {
     "name": "stdout",
     "output_type": "stream",
     "text": [
      "2\n"
     ]
    }
   ],
   "source": [
    "print(6 % 4)"
   ]
  },
  {
   "cell_type": "markdown",
   "id": "f5e7da3c",
   "metadata": {},
   "source": [
    "`**` - Оператор возведения в степень"
   ]
  },
  {
   "cell_type": "code",
   "execution_count": 6,
   "id": "c9c49d0d",
   "metadata": {},
   "outputs": [
    {
     "name": "stdout",
     "output_type": "stream",
     "text": [
      "81\n"
     ]
    }
   ],
   "source": [
    "print(9 ** 2) "
   ]
  },
  {
   "cell_type": "markdown",
   "id": "113d83f8",
   "metadata": {},
   "source": [
    "`\\\\` - Оператор целочисленного деления"
   ]
  },
  {
   "cell_type": "code",
   "execution_count": 7,
   "id": "5869faed",
   "metadata": {},
   "outputs": [
    {
     "name": "stdout",
     "output_type": "stream",
     "text": [
      "1\n"
     ]
    }
   ],
   "source": [
    "print(6 // 4)"
   ]
  },
  {
   "cell_type": "markdown",
   "id": "5a9ac4da",
   "metadata": {},
   "source": [
    "## Операторы сравнения"
   ]
  },
  {
   "cell_type": "markdown",
   "id": "79f55f8c",
   "metadata": {},
   "source": [
    "`==` - Проверяет, равны ли операнды между собой. Если они равны, то выражение становится истинным."
   ]
  },
  {
   "cell_type": "code",
   "execution_count": 8,
   "id": "4073c3e9",
   "metadata": {},
   "outputs": [
    {
     "name": "stdout",
     "output_type": "stream",
     "text": [
      "True\n",
      "False\n"
     ]
    }
   ],
   "source": [
    "print(5 == 5)\n",
    "print(6 == 44) "
   ]
  },
  {
   "cell_type": "markdown",
   "id": "3f25c6db",
   "metadata": {},
   "source": [
    "`!=` - Проверяет, равны ли операнды между собой. Если они не равны, то выражение становится истинным."
   ]
  },
  {
   "cell_type": "code",
   "execution_count": 9,
   "id": "e8c6c031",
   "metadata": {},
   "outputs": [
    {
     "name": "stdout",
     "output_type": "stream",
     "text": [
      "False\n",
      "True\n"
     ]
    }
   ],
   "source": [
    "print(12 != 12) \n",
    "print(1231 != 0.4)"
   ]
  },
  {
   "cell_type": "markdown",
   "id": "b94fe8b3",
   "metadata": {},
   "source": [
    "`>` - Проверяет, больше ли левый операнд чем правый, если больше, то выражение становится истинным."
   ]
  },
  {
   "cell_type": "code",
   "execution_count": 10,
   "id": "0de5d1fd",
   "metadata": {},
   "outputs": [
    {
     "name": "stdout",
     "output_type": "stream",
     "text": [
      "True\n",
      "False\n"
     ]
    }
   ],
   "source": [
    "print(53 > 23)\n",
    "print(432 >500) "
   ]
  },
  {
   "cell_type": "markdown",
   "id": "9fa5d0f2",
   "metadata": {},
   "source": [
    "`<` - Проверяет, меньше ли левый операнд чем правый, если меньше, то выражение становится истинным."
   ]
  },
  {
   "cell_type": "code",
   "execution_count": 11,
   "id": "16cea89d",
   "metadata": {},
   "outputs": [
    {
     "name": "stdout",
     "output_type": "stream",
     "text": [
      "True\n",
      "False\n"
     ]
    }
   ],
   "source": [
    "print(5 < 51)\n",
    "print(6 < 4)"
   ]
  },
  {
   "cell_type": "markdown",
   "id": "185351f3",
   "metadata": {},
   "source": [
    "`>=` - Проверяет, больше левый операнд, чем правый, или равен ему. Если больше или равен, то выражение становится истинным."
   ]
  },
  {
   "cell_type": "code",
   "execution_count": 12,
   "id": "1b2f68c4",
   "metadata": {},
   "outputs": [
    {
     "name": "stdout",
     "output_type": "stream",
     "text": [
      "True\n",
      "False\n"
     ]
    }
   ],
   "source": [
    "print(5 >= 5)\n",
    "print(6 >=44)"
   ]
  },
  {
   "cell_type": "markdown",
   "id": "658dbae0",
   "metadata": {},
   "source": [
    "`<=` - Проверяет, меньше левый операнд, чем правый, или равен ему. Если меньше или равен, то выражение становится истинным."
   ]
  },
  {
   "cell_type": "code",
   "execution_count": 13,
   "id": "8a5a4364",
   "metadata": {},
   "outputs": [
    {
     "name": "stdout",
     "output_type": "stream",
     "text": [
      "True\n",
      "False\n"
     ]
    }
   ],
   "source": [
    "print(32 <= 232)\n",
    "print(65 <= 9) "
   ]
  },
  {
   "cell_type": "markdown",
   "id": "a789ff60",
   "metadata": {},
   "source": [
    "## Операторы присваивания"
   ]
  },
  {
   "cell_type": "markdown",
   "id": "510cfe67",
   "metadata": {},
   "source": [
    "`=` - Присваивает значение правого операнда левому"
   ]
  },
  {
   "cell_type": "code",
   "execution_count": 14,
   "id": "0325a62a",
   "metadata": {},
   "outputs": [
    {
     "name": "stdout",
     "output_type": "stream",
     "text": [
      "5\n"
     ]
    }
   ],
   "source": [
    "var = 5 \n",
    "print(var)"
   ]
  },
  {
   "cell_type": "markdown",
   "id": "a74ac5d0",
   "metadata": {},
   "source": [
    "`+=` - Прибавляет значение правого операнда к левому и присваивает левому. `a += b` эквивалентно записи\n",
    "`a=a+b`"
   ]
  },
  {
   "cell_type": "code",
   "execution_count": 15,
   "id": "f2062512",
   "metadata": {},
   "outputs": [
    {
     "name": "stdout",
     "output_type": "stream",
     "text": [
      "9\n"
     ]
    }
   ],
   "source": [
    "var = 5 \n",
    "var += 4\n",
    "print(var) "
   ]
  },
  {
   "cell_type": "markdown",
   "id": "950e2543",
   "metadata": {},
   "source": [
    "`-=` - Отнимает значение у левого операнда правое и присваивает левому. `a -= b` эквивалентно записи `a = a -b`"
   ]
  },
  {
   "cell_type": "code",
   "execution_count": 16,
   "id": "ca0fe4ff",
   "metadata": {},
   "outputs": [
    {
     "name": "stdout",
     "output_type": "stream",
     "text": [
      "3\n"
     ]
    }
   ],
   "source": [
    "var = 5 \n",
    "var -= 2 \n",
    "print(var) "
   ]
  },
  {
   "cell_type": "markdown",
   "id": "9a619f8d",
   "metadata": {},
   "source": [
    "`*-` - Умножает значение левого операнда на правое и присваивает левому. `a *= b` эквивалентно записи `a=a*b`"
   ]
  },
  {
   "cell_type": "code",
   "execution_count": 17,
   "id": "84cd87fc",
   "metadata": {},
   "outputs": [
    {
     "name": "stdout",
     "output_type": "stream",
     "text": [
      "50\n"
     ]
    }
   ],
   "source": [
    "var = 5 \n",
    "var *= 10 \n",
    "print(var) "
   ]
  },
  {
   "cell_type": "markdown",
   "id": "0d61aa48",
   "metadata": {},
   "source": [
    "`/=` - Делит значение левого операнда на правое и присваивает левому. `a /= b` эквивалентно записи `a=a/b`"
   ]
  },
  {
   "cell_type": "code",
   "execution_count": 18,
   "id": "aa22f557",
   "metadata": {},
   "outputs": [
    {
     "name": "stdout",
     "output_type": "stream",
     "text": [
      "1.25\n"
     ]
    }
   ],
   "source": [
    "var = 5 \n",
    "var /= 4 \n",
    "print(var) "
   ]
  },
  {
   "cell_type": "markdown",
   "id": "ba2813f7",
   "metadata": {},
   "source": [
    "`%=` - Делит значение левого операнда по остатку на правое и присваивает левому. `a %= b` эквивалентно записи `a = a % b`"
   ]
  },
  {
   "cell_type": "code",
   "execution_count": 19,
   "id": "d7a8c140",
   "metadata": {},
   "outputs": [
    {
     "name": "stdout",
     "output_type": "stream",
     "text": [
      "5\n"
     ]
    }
   ],
   "source": [
    "var = 5 \n",
    "var %= 10\n",
    "print(var) "
   ]
  },
  {
   "cell_type": "markdown",
   "id": "fe228129",
   "metadata": {},
   "source": [
    "`**=` - Возводит значение левого операнда в степень правого и присваивает левому. `a **= b` эквивалентно записи `a = a ** b`"
   ]
  },
  {
   "cell_type": "code",
   "execution_count": 20,
   "id": "facca3b1",
   "metadata": {},
   "outputs": [
    {
     "name": "stdout",
     "output_type": "stream",
     "text": [
      "390625\n"
     ]
    }
   ],
   "source": [
    "var = 5 \n",
    "var **= 8 \n",
    "print(var) "
   ]
  },
  {
   "cell_type": "markdown",
   "id": "c15b7b5b",
   "metadata": {},
   "source": [
    "`//=` - Целочисленно делит значение левого операнда на правое и присваивает левому. `a //= b` эквивалентно записи `a = a // b`"
   ]
  },
  {
   "cell_type": "code",
   "execution_count": 21,
   "id": "c88186e3",
   "metadata": {},
   "outputs": [
    {
     "name": "stdout",
     "output_type": "stream",
     "text": [
      "0\n"
     ]
    }
   ],
   "source": [
    "var = 5 \n",
    "var //= 30 \n",
    "print(var) "
   ]
  },
  {
   "cell_type": "markdown",
   "id": "6c8f2efa",
   "metadata": {},
   "source": [
    "## Побитовые операторы\n",
    "\n",
    "\n",
    "\n",
    "Данные операторы работают с данными в двоичной системе счисления. Например число 13 в двоичной системе будет равно 1101"
   ]
  },
  {
   "cell_type": "markdown",
   "id": "4be5de31",
   "metadata": {},
   "source": [
    "`&` - Бинарный \"И\" оператор, копирует бит в результат только если бит присутствует в обоих операндах"
   ]
  },
  {
   "cell_type": "code",
   "execution_count": 33,
   "id": "6a849c24",
   "metadata": {},
   "outputs": [
    {
     "name": "stdout",
     "output_type": "stream",
     "text": [
      "0\n",
      "0\n",
      "0\n",
      "1\n",
      "100\n"
     ]
    }
   ],
   "source": [
    "print(0&0)\n",
    "print(1&0)\n",
    "print(0&1)\n",
    "print(1&1)\n",
    "print(101 & 110)"
   ]
  },
  {
   "cell_type": "markdown",
   "id": "be6905fb",
   "metadata": {},
   "source": [
    "`!` - Бинарный \"ИЛИ\" оператор копирует бит, если тот присутствует в хотя бы в одном операнде"
   ]
  },
  {
   "cell_type": "code",
   "execution_count": 34,
   "id": "55252acd",
   "metadata": {},
   "outputs": [
    {
     "name": "stdout",
     "output_type": "stream",
     "text": [
      "0\n",
      "1\n",
      "1\n",
      "1\n",
      "111\n"
     ]
    }
   ],
   "source": [
    "print(0|0)\n",
    "print(1|0)\n",
    "print(0|1)\n",
    "print(1|1)\n",
    "print(101 | 110)"
   ]
  },
  {
   "cell_type": "markdown",
   "id": "f8a0778e",
   "metadata": {},
   "source": [
    "`^` - Бинарный \"Исключительное ИЛИ\" оператор копирует бит только если бит присутствует в одном из операндов, но не в обоих сразу"
   ]
  },
  {
   "cell_type": "code",
   "execution_count": 35,
   "id": "9d524505",
   "metadata": {},
   "outputs": [
    {
     "name": "stdout",
     "output_type": "stream",
     "text": [
      "0\n",
      "1\n",
      "1\n",
      "0\n",
      "11\n"
     ]
    }
   ],
   "source": [
    "print(0^0)\n",
    "print(1^0)\n",
    "print(0^1)\n",
    "print(1^1)\n",
    "print(101 ^ 110)"
   ]
  },
  {
   "cell_type": "markdown",
   "id": "b290828a",
   "metadata": {},
   "source": [
    "`~` - Побитовая операция \"НЕ\". Для числа a соответствует -(a+1)"
   ]
  },
  {
   "cell_type": "code",
   "execution_count": 36,
   "id": "c1f31051",
   "metadata": {},
   "outputs": [
    {
     "name": "stdout",
     "output_type": "stream",
     "text": [
      "-2\n",
      "-1\n",
      "-102\n"
     ]
    }
   ],
   "source": [
    "print(~1)\n",
    "print(~0)\n",
    "print(~101) "
   ]
  },
  {
   "cell_type": "markdown",
   "id": "97cf94dd",
   "metadata": {},
   "source": [
    "`>>` - Побитовый сдвиг вправо. Значение левого операнда \"сдвигается\" вправо на количество бит указанных в правом операнде"
   ]
  },
  {
   "cell_type": "code",
   "execution_count": 41,
   "id": "b6086e41",
   "metadata": {},
   "outputs": [
    {
     "data": {
      "text/plain": [
       "25"
      ]
     },
     "execution_count": 41,
     "metadata": {},
     "output_type": "execute_result"
    }
   ],
   "source": [
    "100 >> 2"
   ]
  },
  {
   "cell_type": "markdown",
   "id": "61e6fd02",
   "metadata": {},
   "source": [
    "`<<`-Побитовый сдвиг влево. Значение левого операнда \"сдвигается\" влево на количество бит указанных в правом операнде"
   ]
  },
  {
   "cell_type": "code",
   "execution_count": 43,
   "id": "30101427",
   "metadata": {},
   "outputs": [
    {
     "data": {
      "text/plain": [
       "400"
      ]
     },
     "execution_count": 43,
     "metadata": {},
     "output_type": "execute_result"
    }
   ],
   "source": [
    "100 << 2"
   ]
  },
  {
   "cell_type": "markdown",
   "id": "64ccb177",
   "metadata": {},
   "source": [
    "## Логические операторы"
   ]
  },
  {
   "cell_type": "markdown",
   "id": "f185ac4c",
   "metadata": {},
   "source": [
    "`and` - Логический оператор \"И\". Условие будет истинным если оба операнда истина"
   ]
  },
  {
   "cell_type": "code",
   "execution_count": 44,
   "id": "49b27cab",
   "metadata": {},
   "outputs": [
    {
     "name": "stdout",
     "output_type": "stream",
     "text": [
      "True\n",
      "False\n",
      "False\n",
      "False\n"
     ]
    }
   ],
   "source": [
    "print(True and True)\n",
    "\n",
    "print(True and False)\n",
    "\n",
    "print(False and True)\n",
    "\n",
    "print(False and False)"
   ]
  },
  {
   "cell_type": "markdown",
   "id": "bdaccc2c",
   "metadata": {},
   "source": [
    "`or` - Логический оператор \"ИЛИ\". Если хотя бы один из операндов истинный, то и все выражение будет истинным"
   ]
  },
  {
   "cell_type": "code",
   "execution_count": 45,
   "id": "9f01c809",
   "metadata": {},
   "outputs": [
    {
     "name": "stdout",
     "output_type": "stream",
     "text": [
      "True\n",
      "True\n",
      "True\n",
      "False\n"
     ]
    }
   ],
   "source": [
    "print(True or True)\n",
    "\n",
    "print(True or False)\n",
    "\n",
    "print(False or True)\n",
    "\n",
    "print(False or False)"
   ]
  },
  {
   "cell_type": "markdown",
   "id": "ee4e1f40",
   "metadata": {},
   "source": [
    "`not` - Логический оператор \"НЕ\". Изменяет логическое значение операнда на противоположное"
   ]
  },
  {
   "cell_type": "code",
   "execution_count": 46,
   "id": "6ea9ca51",
   "metadata": {},
   "outputs": [
    {
     "name": "stdout",
     "output_type": "stream",
     "text": [
      "False\n",
      "True\n"
     ]
    }
   ],
   "source": [
    "print(not True)\n",
    "\n",
    "print(not False)"
   ]
  },
  {
   "cell_type": "markdown",
   "id": "b7dff50c",
   "metadata": {},
   "source": [
    "## Операторы членства\n",
    "\n",
    "\n",
    "Данные операторы участвуют в поиске данных в некоторой последовательности."
   ]
  },
  {
   "cell_type": "markdown",
   "id": "4eb4ee4a",
   "metadata": {},
   "source": [
    "`in` - Возвращает истину, если элемент присутствует в последовательности, иначе возвращает ложь"
   ]
  },
  {
   "cell_type": "code",
   "execution_count": 47,
   "id": "d9241d08",
   "metadata": {},
   "outputs": [
    {
     "name": "stdout",
     "output_type": "stream",
     "text": [
      "True\n"
     ]
    }
   ],
   "source": [
    "print('he' in 'hello') "
   ]
  },
  {
   "cell_type": "code",
   "execution_count": 48,
   "id": "e49e5f5b",
   "metadata": {},
   "outputs": [
    {
     "name": "stdout",
     "output_type": "stream",
     "text": [
      "True\n"
     ]
    }
   ],
   "source": [
    "print(5 in [1, 2, 3, 4, 5])"
   ]
  },
  {
   "cell_type": "code",
   "execution_count": 49,
   "id": "18ac3b09",
   "metadata": {},
   "outputs": [
    {
     "name": "stdout",
     "output_type": "stream",
     "text": [
      "False\n"
     ]
    }
   ],
   "source": [
    "print(12 in [1, 2, 4, 56])"
   ]
  },
  {
   "cell_type": "markdown",
   "id": "a07c68db",
   "metadata": {},
   "source": [
    "`not in` - Возвращает истину если элемента нет в последовательности"
   ]
  },
  {
   "cell_type": "code",
   "execution_count": 50,
   "id": "a6385b49",
   "metadata": {},
   "outputs": [
    {
     "name": "stdout",
     "output_type": "stream",
     "text": [
      "False\n"
     ]
    }
   ],
   "source": [
    "print('he' not in 'hello') "
   ]
  },
  {
   "cell_type": "code",
   "execution_count": 51,
   "id": "b174a725",
   "metadata": {},
   "outputs": [
    {
     "name": "stdout",
     "output_type": "stream",
     "text": [
      "False\n"
     ]
    }
   ],
   "source": [
    "print(5 not in [1, 2, 3, 4, 5])"
   ]
  },
  {
   "cell_type": "code",
   "execution_count": 52,
   "id": "a7f9d8c0",
   "metadata": {},
   "outputs": [
    {
     "name": "stdout",
     "output_type": "stream",
     "text": [
      "True\n"
     ]
    }
   ],
   "source": [
    "print(12 not in [1, 2, 4, 56])"
   ]
  },
  {
   "cell_type": "markdown",
   "id": "97961a7d",
   "metadata": {},
   "source": [
    "## Операторы тождественности\n",
    "\n",
    "Данные операторы помогают сравнить размещение двух объектов в памяти компьютера"
   ]
  },
  {
   "cell_type": "markdown",
   "id": "df00c9ca",
   "metadata": {},
   "source": [
    "`is` - Возвращает истину, если оба операнда указывают на один объект"
   ]
  },
  {
   "cell_type": "code",
   "execution_count": 53,
   "id": "2d3fa267",
   "metadata": {},
   "outputs": [
    {
     "name": "stdout",
     "output_type": "stream",
     "text": [
      "True\n"
     ]
    }
   ],
   "source": [
    "a = 12 \n",
    "b = 12 \n",
    "print(a is b)"
   ]
  },
  {
   "cell_type": "code",
   "execution_count": 54,
   "id": "a62f6e31",
   "metadata": {},
   "outputs": [
    {
     "name": "stdout",
     "output_type": "stream",
     "text": [
      "False\n"
     ]
    }
   ],
   "source": [
    "c = 22\n",
    "print(a is c)"
   ]
  },
  {
   "cell_type": "markdown",
   "id": "d369b81b",
   "metadata": {},
   "source": [
    "`is not` - Возвращает ложь, если оба операнда указывают на один объект"
   ]
  },
  {
   "cell_type": "code",
   "execution_count": 56,
   "id": "627fee0f",
   "metadata": {},
   "outputs": [
    {
     "name": "stdout",
     "output_type": "stream",
     "text": [
      "True\n"
     ]
    }
   ],
   "source": [
    "c = 22\n",
    "print(a is not c)"
   ]
  }
 ],
 "metadata": {
  "kernelspec": {
   "display_name": "Python 3",
   "language": "python",
   "name": "python3"
  },
  "language_info": {
   "codemirror_mode": {
    "name": "ipython",
    "version": 3
   },
   "file_extension": ".py",
   "mimetype": "text/x-python",
   "name": "python",
   "nbconvert_exporter": "python",
   "pygments_lexer": "ipython3",
   "version": "3.9.6"
  }
 },
 "nbformat": 4,
 "nbformat_minor": 5
}
