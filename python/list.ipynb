{
 "cells": [
  {
   "cell_type": "markdown",
   "id": "08f4e913",
   "metadata": {},
   "source": [
    "# Списки\n",
    "\n",
    "Списками в Python называются массивы. Они могут содержать данные различных типов. Для создания списка автоматически можно использовать метод `list()`:"
   ]
  },
  {
   "cell_type": "code",
   "execution_count": 1,
   "id": "ae3a034f",
   "metadata": {},
   "outputs": [
    {
     "data": {
      "text/plain": [
       "['L', 'a', 'm', 'b', 'd', 'a']"
      ]
     },
     "execution_count": 1,
     "metadata": {},
     "output_type": "execute_result"
    }
   ],
   "source": [
    "list('Lambda')"
   ]
  },
  {
   "cell_type": "markdown",
   "id": "2d0413c6",
   "metadata": {},
   "source": [
    "Также можно это сделать напрямую, присвоив переменной значение типа `list`:"
   ]
  },
  {
   "cell_type": "code",
   "execution_count": 2,
   "id": "3651d865",
   "metadata": {},
   "outputs": [
    {
     "name": "stdout",
     "output_type": "stream",
     "text": [
      "[]\n",
      "['mai', 'l', ['lambda'], 228]\n"
     ]
    }
   ],
   "source": [
    "# Пустой список\n",
    "s = []\n",
    "# список с данными разных типов\n",
    "l = ['mai', 'l', ['lambda'], 228]\n",
    "print(s)\n",
    "print(l)"
   ]
  },
  {
   "cell_type": "markdown",
   "id": "91146218",
   "metadata": {},
   "source": [
    "Также можно использовать генераторы списков:"
   ]
  },
  {
   "cell_type": "code",
   "execution_count": 3,
   "id": "c227bbf1",
   "metadata": {},
   "outputs": [
    {
     "data": {
      "text/plain": [
       "['LLL', 'aaa', 'mmm', 'bbb', 'ddd', 'aaa']"
      ]
     },
     "execution_count": 3,
     "metadata": {},
     "output_type": "execute_result"
    }
   ],
   "source": [
    "a = ['L', 'a', 'm', 'b', 'd', 'a']\n",
    "b = [i * 3 for i in a]\n",
    "b"
   ]
  },
  {
   "cell_type": "markdown",
   "id": "08166732",
   "metadata": {},
   "source": [
    "Количество элементов в списке можно узнать с помощью функции `len()`:"
   ]
  },
  {
   "cell_type": "code",
   "execution_count": 4,
   "id": "9ed63d87",
   "metadata": {},
   "outputs": [
    {
     "data": {
      "text/plain": [
       "6"
      ]
     },
     "execution_count": 4,
     "metadata": {},
     "output_type": "execute_result"
    }
   ],
   "source": [
    "a = ['L', 'a', 'm', 'b', 'd', 'a']\n",
    "len(a)"
   ]
  },
  {
   "cell_type": "markdown",
   "id": "96b173b2",
   "metadata": {},
   "source": [
    "В списках, так же как и в строках, можно обратиться к элементу через индекс `s[2]` или `s[3]`, для сравнение или вывода на печать:"
   ]
  },
  {
   "cell_type": "code",
   "execution_count": 5,
   "id": "f4e4a8b2",
   "metadata": {},
   "outputs": [
    {
     "name": "stdout",
     "output_type": "stream",
     "text": [
      "m b\n"
     ]
    }
   ],
   "source": [
    "s = ['L', 'a', 'm', 'b', 'd', 'a']\n",
    "print(s[2], s[3])"
   ]
  },
  {
   "cell_type": "markdown",
   "id": "3a913b70",
   "metadata": {},
   "source": [
    "Генераторы списков позволяют создавать и заполнять списки. Генератор списков предполагает наличие итерируемого объекта или итератора, на основании которого будет создаваться новый список, а также выражения, которое будет производить манипуляции с извлеченными из последовательности элементами перед тем как добавить их в формируемый список. "
   ]
  },
  {
   "cell_type": "markdown",
   "id": "b152184f",
   "metadata": {},
   "source": [
    "## Методы для работы со списками\n",
    "\n",
    "Методы списков вызываются по схеме: `list.method()`. Ниже будут перечислены полезные методы для работы со списками:\n",
    "\n",
    "- `append(a)` - добавляет элемент a в конец списка\n"
   ]
  },
  {
   "cell_type": "code",
   "execution_count": 6,
   "id": "e6215696",
   "metadata": {},
   "outputs": [
    {
     "name": "stdout",
     "output_type": "stream",
     "text": [
      "['L', 'a', 'm', 'b', 'd', 'a']\n"
     ]
    }
   ],
   "source": [
    "var = ['L', 'a', 'm', 'b', 'd']\n",
    "var.append('a')\n",
    "print(var)"
   ]
  },
  {
   "cell_type": "markdown",
   "id": "97af315f",
   "metadata": {},
   "source": [
    "- `extend(L)` - расширяет список, добавляя к концу все элементы списка `L`"
   ]
  },
  {
   "cell_type": "code",
   "execution_count": 7,
   "id": "1b9c9133",
   "metadata": {},
   "outputs": [
    {
     "name": "stdout",
     "output_type": "stream",
     "text": [
      "['L', 'a', 'm', 'b', 'd', 'a', 'L', 'a', 'm', 'b', 'd', 'a']\n"
     ]
    }
   ],
   "source": [
    "var = ['L', 'a', 'm', 'b', 'd', 'a']\n",
    "var.extend(['L', 'a', 'm', 'b', 'd', 'a'])\n",
    "print(var)"
   ]
  },
  {
   "cell_type": "markdown",
   "id": "edc694d3",
   "metadata": {},
   "source": [
    "- `insert(i, a)` - вставляет на `i` позицию элемент `a`"
   ]
  },
  {
   "cell_type": "code",
   "execution_count": 8,
   "id": "60d68391",
   "metadata": {},
   "outputs": [
    {
     "name": "stdout",
     "output_type": "stream",
     "text": [
      "['L', 'a', 'm', 'b', 'd', 'a']\n"
     ]
    }
   ],
   "source": [
    "var = ['L', 'a',  'b', 'd', 'a']\n",
    "var.insert(2,'m')\n",
    "print(var)"
   ]
  },
  {
   "cell_type": "markdown",
   "id": "978adccd",
   "metadata": {},
   "source": [
    "- `remove(a)` - удаляет первое найденное значение элемента в списке со значением `a`, возвращает ошибку, если такого элемента не существует\n"
   ]
  },
  {
   "cell_type": "code",
   "execution_count": 9,
   "id": "04970954",
   "metadata": {},
   "outputs": [
    {
     "name": "stdout",
     "output_type": "stream",
     "text": [
      "['L', 'm', 'b', 'd', 'a']\n"
     ]
    }
   ],
   "source": [
    "var = ['L', 'a', 'm', 'b', 'd', 'a']\n",
    "var.remove('a')\n",
    "print(var)"
   ]
  },
  {
   "cell_type": "markdown",
   "id": "4765be24",
   "metadata": {},
   "source": [
    "- `pop(i)` - удаляет `i`-ый элемент и возвращает его, если индекс не указан, удаляет последний элемент"
   ]
  },
  {
   "cell_type": "code",
   "execution_count": 10,
   "id": "5a5aaf93",
   "metadata": {},
   "outputs": [
    {
     "data": {
      "text/plain": [
       "'L'"
      ]
     },
     "execution_count": 10,
     "metadata": {},
     "output_type": "execute_result"
    }
   ],
   "source": [
    "var = ['L', 'a', 'm', 'b', 'd', 'a']\n",
    "var.pop(0)"
   ]
  },
  {
   "cell_type": "code",
   "execution_count": 11,
   "id": "5cb9fc5e",
   "metadata": {},
   "outputs": [
    {
     "name": "stdout",
     "output_type": "stream",
     "text": [
      "['a', 'm', 'b', 'd', 'a']\n"
     ]
    }
   ],
   "source": [
    "print(var)"
   ]
  },
  {
   "cell_type": "markdown",
   "id": "c03ff2cf",
   "metadata": {},
   "source": [
    "- `index(a)` возвращает индекс элемента `a` (индексация начинается с `0`)"
   ]
  },
  {
   "cell_type": "code",
   "execution_count": 12,
   "id": "fbdf92ae",
   "metadata": {},
   "outputs": [
    {
     "data": {
      "text/plain": [
       "0"
      ]
     },
     "execution_count": 12,
     "metadata": {},
     "output_type": "execute_result"
    }
   ],
   "source": [
    "var = ['L', 'a', 'm', 'b', 'd', 'a']\n",
    "var.index('L')"
   ]
  },
  {
   "cell_type": "markdown",
   "id": "325728b1",
   "metadata": {},
   "source": [
    "- `count(a)` - возвращает количество элементов со значением `a`"
   ]
  },
  {
   "cell_type": "code",
   "execution_count": 13,
   "id": "cf9479ac",
   "metadata": {},
   "outputs": [
    {
     "data": {
      "text/plain": [
       "2"
      ]
     },
     "execution_count": 13,
     "metadata": {},
     "output_type": "execute_result"
    }
   ],
   "source": [
    "var = ['L', 'a', 'm', 'b', 'd', 'a']\n",
    "var.count('a')"
   ]
  },
  {
   "cell_type": "markdown",
   "id": "161b150b",
   "metadata": {},
   "source": [
    "- `sort([key = функция])` - сортирует список на основе функции, можно не прописывать функцию, тогда сортировка будет происходить по встроенному алгоритму"
   ]
  },
  {
   "cell_type": "code",
   "execution_count": 14,
   "id": "db50e9a2",
   "metadata": {},
   "outputs": [
    {
     "name": "stdout",
     "output_type": "stream",
     "text": [
      "['L', 'a', 'a', 'b', 'd', 'm']\n"
     ]
    }
   ],
   "source": [
    "var = ['L', 'a', 'm', 'b', 'd', 'a']\n",
    "var.sort()\n",
    "print(var)"
   ]
  },
  {
   "cell_type": "markdown",
   "id": "e92ab92d",
   "metadata": {},
   "source": [
    "- `reverse()` - разворачивает список"
   ]
  },
  {
   "cell_type": "code",
   "execution_count": 15,
   "id": "dc6cfc0a",
   "metadata": {},
   "outputs": [
    {
     "name": "stdout",
     "output_type": "stream",
     "text": [
      "['a', 'd', 'b', 'm', 'a', 'L']\n"
     ]
    }
   ],
   "source": [
    "var = ['L', 'a', 'm', 'b', 'd', 'a']\n",
    "var.reverse()\n",
    "print(var)"
   ]
  },
  {
   "cell_type": "markdown",
   "id": "c3b4bc0e",
   "metadata": {},
   "source": [
    "- `copy()` - поверхностная копия списка, при присвоении переменной копии списка, значение данного списка не изменяется в случае изменения первого. Если переменной присвоить список через `\"=\"`, тогда значение этой переменной будет меняться при изменении оригинала\n"
   ]
  },
  {
   "cell_type": "code",
   "execution_count": 16,
   "id": "d085f2d6",
   "metadata": {},
   "outputs": [
    {
     "name": "stdout",
     "output_type": "stream",
     "text": [
      "['L', 'a', 'm', 'b', 'd', 'a']\n"
     ]
    }
   ],
   "source": [
    "var = ['L', 'a', 'm', 'b', 'd', 'a']\n",
    "asd = var.copy()\n",
    "print(asd)"
   ]
  },
  {
   "cell_type": "code",
   "execution_count": 17,
   "id": "efed39f8",
   "metadata": {},
   "outputs": [
    {
     "name": "stdout",
     "output_type": "stream",
     "text": [
      "['L', 'a', 'm', 'b', 'd', 'a']\n",
      "['L', 'a', 'm', 'b', 'd', 'a']\n"
     ]
    }
   ],
   "source": [
    "var = ['L', 'a', 'm', 'b', 'd', 'a']\n",
    "asd = var\n",
    "print(asd)\n",
    "print(var)"
   ]
  },
  {
   "cell_type": "code",
   "execution_count": 18,
   "id": "8ee86c7f",
   "metadata": {},
   "outputs": [
    {
     "name": "stdout",
     "output_type": "stream",
     "text": [
      "['a', 'd', 'b', 'm', 'a', 'L']\n",
      "['a', 'd', 'b', 'm', 'a', 'L']\n"
     ]
    }
   ],
   "source": [
    "var.reverse()\n",
    "print(asd)\n",
    "print(var)"
   ]
  },
  {
   "cell_type": "code",
   "execution_count": 19,
   "id": "e71915c7",
   "metadata": {},
   "outputs": [
    {
     "name": "stdout",
     "output_type": "stream",
     "text": [
      "['L', 'a', 'm', 'b', 'd', 'a']\n"
     ]
    }
   ],
   "source": [
    "var = ['L', 'a', 'm', 'b', 'd', 'a']\n",
    "asd = var.copy()\n",
    "print(asd)"
   ]
  },
  {
   "cell_type": "code",
   "execution_count": 20,
   "id": "ba5f3353",
   "metadata": {},
   "outputs": [
    {
     "name": "stdout",
     "output_type": "stream",
     "text": [
      "['L', 'a', 'm', 'b', 'd', 'a']\n"
     ]
    }
   ],
   "source": [
    "print(var)"
   ]
  },
  {
   "cell_type": "code",
   "execution_count": 21,
   "id": "958eaae1",
   "metadata": {},
   "outputs": [],
   "source": [
    "var.reverse()"
   ]
  },
  {
   "cell_type": "code",
   "execution_count": 22,
   "id": "f7283c4c",
   "metadata": {},
   "outputs": [
    {
     "name": "stdout",
     "output_type": "stream",
     "text": [
      "['L', 'a', 'm', 'b', 'd', 'a']\n",
      "['a', 'd', 'b', 'm', 'a', 'L']\n"
     ]
    }
   ],
   "source": [
    "print(asd)\n",
    "print(var)"
   ]
  },
  {
   "cell_type": "markdown",
   "id": "b5cee53f",
   "metadata": {},
   "source": [
    "- `clear()` - очищает список"
   ]
  },
  {
   "cell_type": "code",
   "execution_count": 23,
   "id": "63b48745",
   "metadata": {},
   "outputs": [
    {
     "name": "stdout",
     "output_type": "stream",
     "text": [
      "[]\n"
     ]
    }
   ],
   "source": [
    "var = ['L', 'a', 'm', 'b', 'd', 'a']\n",
    "var.clear()\n",
    "print(var)"
   ]
  }
 ],
 "metadata": {
  "kernelspec": {
   "display_name": "Python 3.10.0 64-bit",
   "language": "python",
   "name": "python3"
  },
  "language_info": {
   "codemirror_mode": {
    "name": "ipython",
    "version": 3
   },
   "file_extension": ".py",
   "mimetype": "text/x-python",
   "name": "python",
   "nbconvert_exporter": "python",
   "pygments_lexer": "ipython3",
   "version": "3.10.0"
  },
  "vscode": {
   "interpreter": {
    "hash": "8857d754c88de68ba114ca59710d98c414b7e6729307e960db36959023025ba4"
   }
  }
 },
 "nbformat": 4,
 "nbformat_minor": 5
}
