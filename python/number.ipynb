{
 "cells": [
  {
   "cell_type": "markdown",
   "id": "14149d8b",
   "metadata": {},
   "source": [
    "# Числа\n",
    "\n",
    "\n",
    "### Целые числа (int)\n",
    "\n",
    "Целые числа (int) поддерживают обычный набор математических операций."
   ]
  },
  {
   "cell_type": "code",
   "execution_count": 5,
   "id": "669d6380",
   "metadata": {},
   "outputs": [
    {
     "name": "stdout",
     "output_type": "stream",
     "text": [
      "4\n",
      "-2\n",
      "3\n",
      "0.3333333333333333\n",
      "0\n",
      "1\n",
      "-1\n",
      "1\n",
      "(0, 1)\n",
      "1\n",
      "1\n",
      "0\n"
     ]
    }
   ],
   "source": [
    "a,b=1,3\n",
    "print(a + b) # Сложение\n",
    "print(a - b) # Вычитание\n",
    "print(a * b) # Умножение\n",
    "print(a / b) # Деление\n",
    "print(a // b) # Получение целой части от деления\n",
    "print(a % b) # Остаток от деления\n",
    "print(-a) # Смена знака числа\n",
    "print(abs(a)) # Модуль числа\n",
    "print(divmod(a,b)) # Получение пары чисел (a // b, a % b)\n",
    "print(a ** b) # Возведение в степень\n",
    "c = 1\n",
    "print(pow(a, b))\n",
    "print(pow(a, b, c)) # a в степени b. Если указано число c, тогда вычисляется остаток от деления на число c"
   ]
  },
  {
   "cell_type": "markdown",
   "id": "783a24f8",
   "metadata": {},
   "source": [
    "Над целыми числами также можно производить битовые операции (`&`, `|` , `^`, `<<`, `>>`, `~`).\n",
    "\n",
    "Также целые числа можно переводить в другие системы счисления используя методы:\n",
    "\n",
    "- `bin(a)` - перевод числа в двоичную систему счисления\n",
    "- `hex(a)` - перевод числа в 16-тиричную систему счисления\n",
    "- `oct(a)` - перевод числа в 8-миричную системы счисления\n"
   ]
  },
  {
   "cell_type": "code",
   "execution_count": 8,
   "id": "f08285f2",
   "metadata": {},
   "outputs": [
    {
     "name": "stdout",
     "output_type": "stream",
     "text": [
      "0b11\n",
      "0x7b\n",
      "0o17\n"
     ]
    }
   ],
   "source": [
    "print(bin(3))\n",
    "print(hex(123))\n",
    "print(oct(15))"
   ]
  },
  {
   "cell_type": "markdown",
   "id": "56c6dc68",
   "metadata": {},
   "source": [
    "После того как мы перевели число в другую систему счисления, перед самим числом обычно записывается символьное обозначение системы, в которой записано число. Так двоичная система обозначается символами \"`0b`\", 16-тиричная - \"`0x`\", 8-ричная - \"`0o`\".\n",
    "\n",
    "## Числа с плавающей точкой (float)\n",
    "\n",
    "Вещественные числа поддерживают те же операции, что и целые, однако из-за компьютерного представления, могут возникать неточности.\n",
    "\n",
    "Для округления вещественного числа можно применить метод `round()`.\n",
    "\n",
    "Если к вещественному числу применить метод `int()`, т.е. привести его к целочисленному типу, тогда дробная часть просто отсекается."
   ]
  },
  {
   "cell_type": "code",
   "execution_count": 9,
   "id": "1a4e0a19",
   "metadata": {},
   "outputs": [
    {
     "data": {
      "text/plain": [
       "17"
      ]
     },
     "execution_count": 9,
     "metadata": {},
     "output_type": "execute_result"
    }
   ],
   "source": [
    "round(16.76)"
   ]
  },
  {
   "cell_type": "code",
   "execution_count": 11,
   "id": "9183da50",
   "metadata": {},
   "outputs": [
    {
     "data": {
      "text/plain": [
       "123"
      ]
     },
     "execution_count": 11,
     "metadata": {},
     "output_type": "execute_result"
    }
   ],
   "source": [
    "int(123.823)"
   ]
  },
  {
   "cell_type": "markdown",
   "id": "7edf2e7d",
   "metadata": {},
   "source": [
    "## Комплексные числа (complex)\n",
    "\n",
    "Комплексные числа - это числа вида `a + bi`, где `a` и `b` - действительные числа, а `i`- мнимая единица (квадратный корень из -1). Часть а является действительной частью, а часть `b` - мнимой. В математике мнимая единица записывается в виде буквы `i`, но в Python она обозначается буквой `j`, исходя из инженерной традиции."
   ]
  },
  {
   "cell_type": "code",
   "execution_count": 13,
   "id": "614dc0e4",
   "metadata": {},
   "outputs": [
    {
     "name": "stdout",
     "output_type": "stream",
     "text": [
      "real -14.3\n",
      "imag 7.083\n"
     ]
    }
   ],
   "source": [
    "z = -14.3 + 7.083j\n",
    "print(\"real\",z.real)\n",
    "print(\"imag\", z.imag)"
   ]
  },
  {
   "cell_type": "markdown",
   "id": "dc10f7c9",
   "metadata": {},
   "source": [
    "Данный тип хранит пару значений `float`. Комплексные числа имеют особое математическое значение, поэтому мы не будем более подробно останавливаться на этом типе."
   ]
  }
 ],
 "metadata": {
  "kernelspec": {
   "display_name": "Python 3",
   "language": "python",
   "name": "python3"
  },
  "language_info": {
   "codemirror_mode": {
    "name": "ipython",
    "version": 3
   },
   "file_extension": ".py",
   "mimetype": "text/x-python",
   "name": "python",
   "nbconvert_exporter": "python",
   "pygments_lexer": "ipython3",
   "version": "3.9.7"
  }
 },
 "nbformat": 4,
 "nbformat_minor": 5
}
