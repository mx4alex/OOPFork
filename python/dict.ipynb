{
 "cells": [
  {
   "cell_type": "markdown",
   "id": "9cfa3e26",
   "metadata": {},
   "source": [
    "# Словари\n",
    "\n",
    "\n",
    "\n",
    "Словари - это неупорядоченные коллекции пар \"ключ-значение\". В качестве ключей могут использоваться ссылки на хешируемые объекты, а в качестве значений - ссылки на объекты любого типа. Т.к. словари являются неупорядоченными коллекциями, то к ним не применяется понятие индекса элемента и не применяется операция извлечения среза.\n",
    "\n",
    "\n",
    "**Определение**\n",
    "\n",
    "Хешируемые объекты - объекты, которые имеют метод `__hash__()` и могут участвовать в операциях сравнения на равенство с помощью метода `__eq__()`.\n",
    "\n",
    "Метод `__hash__()` возвращает одно и то же значение объекта на протяжении его жизненного цикла.\n",
    "\n",
    "\n",
    "\n",
    "Чтобы создать словарь можно использовать метод `dict()`:"
   ]
  },
  {
   "cell_type": "code",
   "execution_count": 1,
   "id": "0a89ef94",
   "metadata": {},
   "outputs": [
    {
     "name": "stdout",
     "output_type": "stream",
     "text": [
      "{'short': 'dict', 'long': 'dictionary'}\n"
     ]
    }
   ],
   "source": [
    "d = dict(short='dict', long='dictionary')\n",
    "print(d)"
   ]
  },
  {
   "cell_type": "code",
   "execution_count": 2,
   "id": "ef5a6316",
   "metadata": {},
   "outputs": [
    {
     "name": "stdout",
     "output_type": "stream",
     "text": [
      "{1: 1, 2: 4}\n"
     ]
    }
   ],
   "source": [
    "d = dict([(1, 1), (2, 4)])\n",
    "print(d)"
   ]
  },
  {
   "cell_type": "markdown",
   "id": "4f2c7461",
   "metadata": {},
   "source": [
    "В созданных выше словарях мы получили пары \"ключ-значение\", в частности ключ short и соответствующее ему значение dict.\n",
    "\n",
    "Также можно создать словарь следующим образом:"
   ]
  },
  {
   "cell_type": "code",
   "execution_count": 3,
   "id": "2538fa28",
   "metadata": {},
   "outputs": [
    {
     "name": "stdout",
     "output_type": "stream",
     "text": [
      "{}\n",
      "{'dict': 1, 'dictionary': 2}\n"
     ]
    }
   ],
   "source": [
    "d = {}\n",
    "print(d)\n",
    "\n",
    "d = {'dict': 1, 'dictionary': 2}\n",
    "print(d)"
   ]
  },
  {
   "cell_type": "markdown",
   "id": "ea49c6fc",
   "metadata": {},
   "source": [
    "Еще один способ - использовать метод `fromkeys()`:"
   ]
  },
  {
   "cell_type": "code",
   "execution_count": 4,
   "id": "47633058",
   "metadata": {},
   "outputs": [
    {
     "name": "stdout",
     "output_type": "stream",
     "text": [
      "{'a': None, 'b': None}\n"
     ]
    }
   ],
   "source": [
    "d = dict.fromkeys(['a', 'b'])\n",
    "print(d)"
   ]
  },
  {
   "cell_type": "code",
   "execution_count": 5,
   "id": "bae5c362",
   "metadata": {},
   "outputs": [
    {
     "name": "stdout",
     "output_type": "stream",
     "text": [
      "{'a': 100, 'b': 100}\n"
     ]
    }
   ],
   "source": [
    "d = dict.fromkeys(['a', 'b'], 100)\n",
    "print(d)"
   ]
  },
  {
   "cell_type": "markdown",
   "id": "db61a1c0",
   "metadata": {},
   "source": [
    "Также можно использовать генератор словарей:"
   ]
  },
  {
   "cell_type": "code",
   "execution_count": 6,
   "id": "c6707d4d",
   "metadata": {},
   "outputs": [
    {
     "name": "stdout",
     "output_type": "stream",
     "text": [
      "{0: 0, 1: 1, 2: 4, 3: 9, 4: 16, 5: 25, 6: 36}\n"
     ]
    }
   ],
   "source": [
    "d = {a: a ** 2 for a in range(7)}\n",
    "print(d)"
   ]
  },
  {
   "cell_type": "markdown",
   "id": "f1590926",
   "metadata": {},
   "source": [
    "Как можно работать со словарями:"
   ]
  },
  {
   "cell_type": "code",
   "execution_count": 1,
   "id": "72398f56",
   "metadata": {},
   "outputs": [
    {
     "name": "stdout",
     "output_type": "stream",
     "text": [
      "2\n",
      "9\n"
     ]
    }
   ],
   "source": [
    "d = {1: 2, 2: 4, 3: 9}\n",
    "print(d[1])\n",
    "print(d[3])"
   ]
  },
  {
   "cell_type": "code",
   "execution_count": 8,
   "id": "b7d615ed",
   "metadata": {},
   "outputs": [
    {
     "name": "stdout",
     "output_type": "stream",
     "text": [
      "{1: 2, 2: 4, 3: 9, 4: 16}\n"
     ]
    }
   ],
   "source": [
    "d[4] = 4 ** 2\n",
    "print(d)"
   ]
  },
  {
   "cell_type": "code",
   "execution_count": 9,
   "id": "98b7fadf",
   "metadata": {},
   "outputs": [
    {
     "ename": "KeyError",
     "evalue": "'1'",
     "output_type": "error",
     "traceback": [
      "\u001b[0;31m---------------------------------------------------------------------------\u001b[0m",
      "\u001b[0;31mKeyError\u001b[0m                                  Traceback (most recent call last)",
      "\u001b[0;32m<ipython-input-9-e142bffca921>\u001b[0m in \u001b[0;36m<module>\u001b[0;34m\u001b[0m\n\u001b[0;32m----> 1\u001b[0;31m \u001b[0md\u001b[0m\u001b[0;34m[\u001b[0m\u001b[0;34m'1'\u001b[0m\u001b[0;34m]\u001b[0m\u001b[0;34m\u001b[0m\u001b[0;34m\u001b[0m\u001b[0m\n\u001b[0m",
      "\u001b[0;31mKeyError\u001b[0m: '1'"
     ]
    }
   ],
   "source": [
    "d['1']"
   ]
  },
  {
   "cell_type": "markdown",
   "id": "60051a25",
   "metadata": {},
   "source": [
    "В первом случае мы обратились к ключу \"1\", после чего получили вывод на экран его значения \"2\". Затем мы создали новый ключ \"4\" и присвоили ему значение \"16\", после чего эта пара добавилась к нашему словарю. В последнем примере мы попробовали обратиться к несуществующему ключу, поскольку значение '1' стоит в кавычках, а значит это другой тип данных, которого нет в нашем словаре, после чего получили сообщение о том, что такого ключа нет."
   ]
  },
  {
   "cell_type": "markdown",
   "id": "6ff24810",
   "metadata": {},
   "source": [
    "## Методы для работы со словарями\n",
    "\n",
    "\n",
    "Методы вызываются по схеме: `dict.method()`. Ниже будут перечислены полезные методы для работы со словарями:\n",
    "\n",
    "- `clear()` - очищает словарь"
   ]
  },
  {
   "cell_type": "code",
   "execution_count": 10,
   "id": "74ab3510",
   "metadata": {},
   "outputs": [
    {
     "name": "stdout",
     "output_type": "stream",
     "text": [
      "{}\n"
     ]
    }
   ],
   "source": [
    "d = {'a': 1, 'b': 2}\n",
    "d.clear()\n",
    "print(d)"
   ]
  },
  {
   "cell_type": "markdown",
   "id": "318d7d4f",
   "metadata": {},
   "source": [
    "- `copy()` - возвращает копию словаря"
   ]
  },
  {
   "cell_type": "code",
   "execution_count": 11,
   "id": "8f1501d6",
   "metadata": {},
   "outputs": [
    {
     "name": "stdout",
     "output_type": "stream",
     "text": [
      "{'a': 1, 'b': 2}\n"
     ]
    }
   ],
   "source": [
    "d = {'a': 1, 'b': 2}\n",
    "b = d.copy()\n",
    "print(b)"
   ]
  },
  {
   "cell_type": "markdown",
   "id": "e5cf16d3",
   "metadata": {},
   "source": [
    "- `fromkeys(seq[,value])` - создает словарь с ключами из seq и значением value"
   ]
  },
  {
   "cell_type": "code",
   "execution_count": 12,
   "id": "bb97213b",
   "metadata": {},
   "outputs": [
    {
     "data": {
      "text/plain": [
       "{'a': 10, 'b': 10}"
      ]
     },
     "execution_count": 12,
     "metadata": {},
     "output_type": "execute_result"
    }
   ],
   "source": [
    "d.fromkeys(['a', 'b'], 10)"
   ]
  },
  {
   "cell_type": "markdown",
   "id": "be4f649f",
   "metadata": {},
   "source": [
    "- `get(key[, default])` - возвращает значение ключа, но если его нет, возвращает `default`"
   ]
  },
  {
   "cell_type": "code",
   "execution_count": 13,
   "id": "9ce6d93d",
   "metadata": {},
   "outputs": [
    {
     "data": {
      "text/plain": [
       "1"
      ]
     },
     "execution_count": 13,
     "metadata": {},
     "output_type": "execute_result"
    }
   ],
   "source": [
    "d = {'a': 1, 'b': 2}\n",
    "d.get('a')"
   ]
  },
  {
   "cell_type": "markdown",
   "id": "dba6d1ac",
   "metadata": {},
   "source": [
    "- `items()` - возвращает пары (ключ, значение)"
   ]
  },
  {
   "cell_type": "code",
   "execution_count": 15,
   "id": "eb90fec7",
   "metadata": {},
   "outputs": [
    {
     "data": {
      "text/plain": [
       "{'a': 1, 'b': 2}"
      ]
     },
     "execution_count": 15,
     "metadata": {},
     "output_type": "execute_result"
    }
   ],
   "source": [
    "d = {'a': 1, 'b': 2}\n",
    "d.items()\n",
    "d"
   ]
  },
  {
   "cell_type": "markdown",
   "id": "4f3b635a",
   "metadata": {},
   "source": [
    "-     `keys()` - возвращает ключи в словаре"
   ]
  },
  {
   "cell_type": "code",
   "execution_count": 16,
   "id": "096047b9",
   "metadata": {},
   "outputs": [
    {
     "name": "stdout",
     "output_type": "stream",
     "text": [
      "dict_keys(['a', 'b'])\n"
     ]
    }
   ],
   "source": [
    "d = {'a': 1, 'b': 2}\n",
    "print(d.keys())"
   ]
  },
  {
   "cell_type": "markdown",
   "id": "96011b97",
   "metadata": {},
   "source": [
    "-     `pop(key[, default])` - удаляет ключ и возвращает значение. Если ключа нет, возвращает `default`"
   ]
  },
  {
   "cell_type": "code",
   "execution_count": 17,
   "id": "c9247177",
   "metadata": {},
   "outputs": [
    {
     "data": {
      "text/plain": [
       "1"
      ]
     },
     "execution_count": 17,
     "metadata": {},
     "output_type": "execute_result"
    }
   ],
   "source": [
    "d = {'a': 1, 'b': 2}\n",
    "d.pop('a')"
   ]
  },
  {
   "cell_type": "code",
   "execution_count": 18,
   "id": "51590344",
   "metadata": {},
   "outputs": [
    {
     "name": "stdout",
     "output_type": "stream",
     "text": [
      "{'b': 2}\n"
     ]
    }
   ],
   "source": [
    "print(d)"
   ]
  },
  {
   "cell_type": "markdown",
   "id": "1c42bba0",
   "metadata": {},
   "source": [
    "-  `popitem()` - удаляет и возвращает пару (ключ, значение) с конца"
   ]
  },
  {
   "cell_type": "code",
   "execution_count": 19,
   "id": "b67e9de1",
   "metadata": {},
   "outputs": [
    {
     "data": {
      "text/plain": [
       "('b', 2)"
      ]
     },
     "execution_count": 19,
     "metadata": {},
     "output_type": "execute_result"
    }
   ],
   "source": [
    "d = {'a': 1, 'b': 2}\n",
    "d.popitem()"
   ]
  },
  {
   "cell_type": "code",
   "execution_count": 20,
   "id": "4e4606bb",
   "metadata": {},
   "outputs": [
    {
     "name": "stdout",
     "output_type": "stream",
     "text": [
      "{'a': 1}\n"
     ]
    }
   ],
   "source": [
    "print(d)"
   ]
  },
  {
   "cell_type": "markdown",
   "id": "e907cdea",
   "metadata": {},
   "source": [
    "-  `setdefault(key[, default])` - возвращает значение ключа, но если его нет, создает ключ с значением `default`"
   ]
  },
  {
   "cell_type": "code",
   "execution_count": 21,
   "id": "5b22528c",
   "metadata": {},
   "outputs": [
    {
     "data": {
      "text/plain": [
       "6"
      ]
     },
     "execution_count": 21,
     "metadata": {},
     "output_type": "execute_result"
    }
   ],
   "source": [
    "d = {'a': 1, 'b': 2}\n",
    "d.setdefault('e', 6)"
   ]
  },
  {
   "cell_type": "code",
   "execution_count": 22,
   "id": "2ecfbd7c",
   "metadata": {},
   "outputs": [
    {
     "name": "stdout",
     "output_type": "stream",
     "text": [
      "{'a': 1, 'b': 2, 'e': 6, 'f': None}\n"
     ]
    }
   ],
   "source": [
    "d.setdefault('f')\n",
    "print(d)"
   ]
  },
  {
   "cell_type": "markdown",
   "id": "64c36738",
   "metadata": {},
   "source": [
    "-     `update([other])` - обновляет словарь, добавляя пары (ключ, значение) из other. Существующие ключи перезаписываются"
   ]
  },
  {
   "cell_type": "code",
   "execution_count": 23,
   "id": "4512fd69",
   "metadata": {},
   "outputs": [
    {
     "name": "stdout",
     "output_type": "stream",
     "text": [
      "{'a': 1, 'b': 2, 'd': 5}\n"
     ]
    }
   ],
   "source": [
    "d = {'a': 1, 'b': 2}\n",
    "d.update({'d':5})\n",
    "print(d)"
   ]
  },
  {
   "cell_type": "markdown",
   "id": "f9438db0",
   "metadata": {},
   "source": [
    "- `values()` - возвращает значения в словаре"
   ]
  },
  {
   "cell_type": "code",
   "execution_count": 24,
   "id": "2c16d84d",
   "metadata": {},
   "outputs": [
    {
     "data": {
      "text/plain": [
       "dict_values([1, 2])"
      ]
     },
     "execution_count": 24,
     "metadata": {},
     "output_type": "execute_result"
    }
   ],
   "source": [
    "d = {'a': 1, 'b': 2}\n",
    "d.values()"
   ]
  }
 ],
 "metadata": {
  "kernelspec": {
   "display_name": "Python 3.10.0 64-bit",
   "language": "python",
   "name": "python3"
  },
  "language_info": {
   "codemirror_mode": {
    "name": "ipython",
    "version": 3
   },
   "file_extension": ".py",
   "mimetype": "text/x-python",
   "name": "python",
   "nbconvert_exporter": "python",
   "pygments_lexer": "ipython3",
   "version": "3.10.0"
  },
  "vscode": {
   "interpreter": {
    "hash": "8857d754c88de68ba114ca59710d98c414b7e6729307e960db36959023025ba4"
   }
  }
 },
 "nbformat": 4,
 "nbformat_minor": 5
}
